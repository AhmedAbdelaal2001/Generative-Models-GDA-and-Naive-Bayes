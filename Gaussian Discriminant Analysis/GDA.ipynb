{
 "cells": [
  {
   "cell_type": "code",
   "execution_count": 1,
   "id": "c7a08c0d",
   "metadata": {},
   "outputs": [],
   "source": [
    "import numpy as np"
   ]
  },
  {
   "cell_type": "code",
   "execution_count": 2,
   "id": "a4f2e0be",
   "metadata": {},
   "outputs": [],
   "source": [
    "class GDA:\n",
    "    \n",
    "    def __init__(self, w = None):\n",
    "        self.w = w\n",
    "        \n",
    "    def fit(self, X, y):\n",
    "        phi = np.mean(y)\n",
    "        mu0 = X[y == 0].mean(axis = 0)\n",
    "        mu1 = X[y == 1].mean(axis = 0)\n",
    "        mean = np.where(y.reshape(-1, 1), mu1, mu0)\n",
    "        difference = X - mean\n",
    "        sigma = np.matmul(np.transpose(difference), difference) / X.shape[0]\n",
    "        \n",
    "        self.w = np.empty(X.shape[1] + 1)\n",
    "        sigma_inverse = np.linalg.inv(sigma)\n",
    "        mu_difference = mu1 - mu0\n",
    "        mu_sum = mu1 + mu0\n",
    "        self.w[1:] = np.matmul(mu_difference, sigma_inverse)\n",
    "        self.w[0] = (np.log(phi / (1 - phi)) - mu_difference @ sigma_inverse @ mu_sum / 2)\n",
    "        \n",
    "        print(self.w)\n",
    "        print(\"Training Complete.\")\n",
    "        \n",
    "    def predict(self, X):\n",
    "        z = self.w[0] + np.matmul(self.w[1:], np.transpose(X))\n",
    "        \n",
    "        return (z >= 0).astype(np.int32)"
   ]
  },
  {
   "cell_type": "code",
   "execution_count": 3,
   "id": "deae14e2",
   "metadata": {},
   "outputs": [],
   "source": [
    "import pandas as pd"
   ]
  },
  {
   "cell_type": "code",
   "execution_count": 4,
   "id": "aa8ced16",
   "metadata": {},
   "outputs": [],
   "source": [
    "dataset1 = pd.read_csv(\"training_set1.csv\")\n",
    "dataset2 = pd.read_csv(\"training_set2.csv\")"
   ]
  },
  {
   "cell_type": "code",
   "execution_count": 5,
   "id": "aaf0eda0",
   "metadata": {},
   "outputs": [
    {
     "data": {
      "text/html": [
       "<div>\n",
       "<style scoped>\n",
       "    .dataframe tbody tr th:only-of-type {\n",
       "        vertical-align: middle;\n",
       "    }\n",
       "\n",
       "    .dataframe tbody tr th {\n",
       "        vertical-align: top;\n",
       "    }\n",
       "\n",
       "    .dataframe thead th {\n",
       "        text-align: right;\n",
       "    }\n",
       "</style>\n",
       "<table border=\"1\" class=\"dataframe\">\n",
       "  <thead>\n",
       "    <tr style=\"text-align: right;\">\n",
       "      <th></th>\n",
       "      <th>x_1</th>\n",
       "      <th>x_2</th>\n",
       "      <th>y</th>\n",
       "    </tr>\n",
       "  </thead>\n",
       "  <tbody>\n",
       "    <tr>\n",
       "      <th>0</th>\n",
       "      <td>0.411809</td>\n",
       "      <td>1.105525</td>\n",
       "      <td>0.0</td>\n",
       "    </tr>\n",
       "    <tr>\n",
       "      <th>1</th>\n",
       "      <td>1.274746</td>\n",
       "      <td>6.303314</td>\n",
       "      <td>0.0</td>\n",
       "    </tr>\n",
       "    <tr>\n",
       "      <th>2</th>\n",
       "      <td>0.115488</td>\n",
       "      <td>3.264251</td>\n",
       "      <td>0.0</td>\n",
       "    </tr>\n",
       "    <tr>\n",
       "      <th>3</th>\n",
       "      <td>-0.486306</td>\n",
       "      <td>0.279487</td>\n",
       "      <td>0.0</td>\n",
       "    </tr>\n",
       "    <tr>\n",
       "      <th>4</th>\n",
       "      <td>0.257625</td>\n",
       "      <td>1.212389</td>\n",
       "      <td>0.0</td>\n",
       "    </tr>\n",
       "  </tbody>\n",
       "</table>\n",
       "</div>"
      ],
      "text/plain": [
       "        x_1       x_2    y\n",
       "0  0.411809  1.105525  0.0\n",
       "1  1.274746  6.303314  0.0\n",
       "2  0.115488  3.264251  0.0\n",
       "3 -0.486306  0.279487  0.0\n",
       "4  0.257625  1.212389  0.0"
      ]
     },
     "execution_count": 5,
     "metadata": {},
     "output_type": "execute_result"
    }
   ],
   "source": [
    "dataset1.head()"
   ]
  },
  {
   "cell_type": "code",
   "execution_count": 6,
   "id": "459ff37f",
   "metadata": {},
   "outputs": [
    {
     "data": {
      "text/html": [
       "<div>\n",
       "<style scoped>\n",
       "    .dataframe tbody tr th:only-of-type {\n",
       "        vertical-align: middle;\n",
       "    }\n",
       "\n",
       "    .dataframe tbody tr th {\n",
       "        vertical-align: top;\n",
       "    }\n",
       "\n",
       "    .dataframe thead th {\n",
       "        text-align: right;\n",
       "    }\n",
       "</style>\n",
       "<table border=\"1\" class=\"dataframe\">\n",
       "  <thead>\n",
       "    <tr style=\"text-align: right;\">\n",
       "      <th></th>\n",
       "      <th>x_1</th>\n",
       "      <th>x_2</th>\n",
       "      <th>y</th>\n",
       "    </tr>\n",
       "  </thead>\n",
       "  <tbody>\n",
       "    <tr>\n",
       "      <th>0</th>\n",
       "      <td>1.259481</td>\n",
       "      <td>3.507940</td>\n",
       "      <td>0.0</td>\n",
       "    </tr>\n",
       "    <tr>\n",
       "      <th>1</th>\n",
       "      <td>0.922057</td>\n",
       "      <td>0.991203</td>\n",
       "      <td>0.0</td>\n",
       "    </tr>\n",
       "    <tr>\n",
       "      <th>2</th>\n",
       "      <td>0.278818</td>\n",
       "      <td>0.112071</td>\n",
       "      <td>0.0</td>\n",
       "    </tr>\n",
       "    <tr>\n",
       "      <th>3</th>\n",
       "      <td>1.518066</td>\n",
       "      <td>1.653732</td>\n",
       "      <td>0.0</td>\n",
       "    </tr>\n",
       "    <tr>\n",
       "      <th>4</th>\n",
       "      <td>-0.693938</td>\n",
       "      <td>0.685966</td>\n",
       "      <td>0.0</td>\n",
       "    </tr>\n",
       "  </tbody>\n",
       "</table>\n",
       "</div>"
      ],
      "text/plain": [
       "        x_1       x_2    y\n",
       "0  1.259481  3.507940  0.0\n",
       "1  0.922057  0.991203  0.0\n",
       "2  0.278818  0.112071  0.0\n",
       "3  1.518066  1.653732  0.0\n",
       "4 -0.693938  0.685966  0.0"
      ]
     },
     "execution_count": 6,
     "metadata": {},
     "output_type": "execute_result"
    }
   ],
   "source": [
    "dataset2.head()"
   ]
  },
  {
   "cell_type": "code",
   "execution_count": 7,
   "id": "d102d023",
   "metadata": {},
   "outputs": [],
   "source": [
    "X_train1 = dataset1.iloc[:, :-1].values\n",
    "X_train2 = dataset2.iloc[:, :-1].values"
   ]
  },
  {
   "cell_type": "code",
   "execution_count": 8,
   "id": "588f5592",
   "metadata": {},
   "outputs": [
    {
     "name": "stdout",
     "output_type": "stream",
     "text": [
      "[[0.41180854 1.10552487]\n",
      " [1.27474554 6.30331401]\n",
      " [0.11548828 3.26425138]\n",
      " ...\n",
      " [0.96909526 4.51838094]\n",
      " [1.95753102 6.08296767]\n",
      " [2.02533402 2.72958809]]\n"
     ]
    }
   ],
   "source": [
    "print(X_train1)"
   ]
  },
  {
   "cell_type": "code",
   "execution_count": 9,
   "id": "c92402cc",
   "metadata": {},
   "outputs": [
    {
     "name": "stdout",
     "output_type": "stream",
     "text": [
      "[[1.2594805  3.5079397 ]\n",
      " [0.92205706 0.99120267]\n",
      " [0.27881751 0.11207082]\n",
      " ...\n",
      " [1.54410545 1.14987938]\n",
      " [0.57546055 1.01725473]\n",
      " [1.5608151  2.49184993]]\n"
     ]
    }
   ],
   "source": [
    "print(X_train2)"
   ]
  },
  {
   "cell_type": "code",
   "execution_count": 10,
   "id": "b034e633",
   "metadata": {},
   "outputs": [],
   "source": [
    "y_train1 = dataset1.iloc[:, -1].values\n",
    "y_train2 = dataset2.iloc[:, -1].values"
   ]
  },
  {
   "cell_type": "code",
   "execution_count": 11,
   "id": "c866dc3d",
   "metadata": {},
   "outputs": [
    {
     "name": "stdout",
     "output_type": "stream",
     "text": [
      "[0. 0. 0. 0. 0. 0. 0. 0. 0. 0. 0. 0. 0. 0. 0. 0. 0. 0. 0. 0. 0. 0. 0. 0.\n",
      " 0. 0. 0. 0. 0. 0. 0. 0. 0. 0. 0. 0. 0. 0. 0. 0. 0. 0. 0. 0. 0. 0. 0. 0.\n",
      " 0. 0. 0. 0. 0. 0. 0. 0. 0. 0. 0. 0. 0. 0. 0. 0. 0. 0. 0. 0. 0. 0. 0. 0.\n",
      " 0. 0. 0. 0. 0. 0. 0. 0. 0. 0. 0. 0. 0. 0. 0. 0. 0. 0. 0. 0. 0. 0. 0. 0.\n",
      " 0. 0. 0. 0. 0. 0. 0. 0. 0. 0. 0. 0. 0. 0. 0. 0. 0. 0. 0. 0. 0. 0. 0. 0.\n",
      " 0. 0. 0. 0. 0. 0. 0. 0. 0. 0. 0. 0. 0. 0. 0. 0. 0. 0. 0. 0. 0. 0. 0. 0.\n",
      " 0. 0. 0. 0. 0. 0. 0. 0. 0. 0. 0. 0. 0. 0. 0. 0. 0. 0. 0. 0. 0. 0. 0. 0.\n",
      " 0. 0. 0. 0. 0. 0. 0. 0. 0. 0. 0. 0. 0. 0. 0. 0. 0. 0. 0. 0. 0. 0. 0. 0.\n",
      " 0. 0. 0. 0. 0. 0. 0. 0. 0. 0. 0. 0. 0. 0. 0. 0. 0. 0. 0. 0. 0. 0. 0. 0.\n",
      " 0. 0. 0. 0. 0. 0. 0. 0. 0. 0. 0. 0. 0. 0. 0. 0. 0. 0. 0. 0. 0. 0. 0. 0.\n",
      " 0. 0. 0. 0. 0. 0. 0. 0. 0. 0. 0. 0. 0. 0. 0. 0. 0. 0. 0. 0. 0. 0. 0. 0.\n",
      " 0. 0. 0. 0. 0. 0. 0. 0. 0. 0. 0. 0. 0. 0. 0. 0. 0. 0. 0. 0. 0. 0. 0. 0.\n",
      " 0. 0. 0. 0. 0. 0. 0. 0. 0. 0. 0. 0. 0. 0. 0. 0. 0. 0. 0. 0. 0. 0. 0. 0.\n",
      " 0. 0. 0. 0. 0. 0. 0. 0. 0. 0. 0. 0. 0. 0. 0. 0. 0. 0. 0. 0. 0. 0. 0. 0.\n",
      " 0. 0. 0. 0. 0. 0. 0. 0. 0. 0. 0. 0. 0. 0. 0. 0. 0. 0. 0. 0. 0. 0. 0. 0.\n",
      " 0. 0. 0. 0. 0. 0. 0. 0. 0. 0. 0. 0. 0. 0. 0. 0. 0. 0. 0. 0. 0. 0. 0. 0.\n",
      " 0. 0. 0. 0. 0. 0. 0. 0. 0. 0. 0. 0. 0. 0. 0. 0. 1. 1. 1. 1. 1. 1. 1. 1.\n",
      " 1. 1. 1. 1. 1. 1. 1. 1. 1. 1. 1. 1. 1. 1. 1. 1. 1. 1. 1. 1. 1. 1. 1. 1.\n",
      " 1. 1. 1. 1. 1. 1. 1. 1. 1. 1. 1. 1. 1. 1. 1. 1. 1. 1. 1. 1. 1. 1. 1. 1.\n",
      " 1. 1. 1. 1. 1. 1. 1. 1. 1. 1. 1. 1. 1. 1. 1. 1. 1. 1. 1. 1. 1. 1. 1. 1.\n",
      " 1. 1. 1. 1. 1. 1. 1. 1. 1. 1. 1. 1. 1. 1. 1. 1. 1. 1. 1. 1. 1. 1. 1. 1.\n",
      " 1. 1. 1. 1. 1. 1. 1. 1. 1. 1. 1. 1. 1. 1. 1. 1. 1. 1. 1. 1. 1. 1. 1. 1.\n",
      " 1. 1. 1. 1. 1. 1. 1. 1. 1. 1. 1. 1. 1. 1. 1. 1. 1. 1. 1. 1. 1. 1. 1. 1.\n",
      " 1. 1. 1. 1. 1. 1. 1. 1. 1. 1. 1. 1. 1. 1. 1. 1. 1. 1. 1. 1. 1. 1. 1. 1.\n",
      " 1. 1. 1. 1. 1. 1. 1. 1. 1. 1. 1. 1. 1. 1. 1. 1. 1. 1. 1. 1. 1. 1. 1. 1.\n",
      " 1. 1. 1. 1. 1. 1. 1. 1. 1. 1. 1. 1. 1. 1. 1. 1. 1. 1. 1. 1. 1. 1. 1. 1.\n",
      " 1. 1. 1. 1. 1. 1. 1. 1. 1. 1. 1. 1. 1. 1. 1. 1. 1. 1. 1. 1. 1. 1. 1. 1.\n",
      " 1. 1. 1. 1. 1. 1. 1. 1. 1. 1. 1. 1. 1. 1. 1. 1. 1. 1. 1. 1. 1. 1. 1. 1.\n",
      " 1. 1. 1. 1. 1. 1. 1. 1. 1. 1. 1. 1. 1. 1. 1. 1. 1. 1. 1. 1. 1. 1. 1. 1.\n",
      " 1. 1. 1. 1. 1. 1. 1. 1. 1. 1. 1. 1. 1. 1. 1. 1. 1. 1. 1. 1. 1. 1. 1. 1.\n",
      " 1. 1. 1. 1. 1. 1. 1. 1. 1. 1. 1. 1. 1. 1. 1. 1. 1. 1. 1. 1. 1. 1. 1. 1.\n",
      " 1. 1. 1. 1. 1. 1. 1. 1. 1. 1. 1. 1. 1. 1. 1. 1. 1. 1. 1. 1. 1. 1. 1. 1.\n",
      " 1. 1. 1. 1. 1. 1. 1. 1. 1. 1. 1. 1. 1. 1. 1. 1. 1. 1. 1. 1. 1. 1. 1. 1.\n",
      " 1. 1. 1. 1. 1. 1. 1. 1.]\n"
     ]
    }
   ],
   "source": [
    "print(y_train1)"
   ]
  },
  {
   "cell_type": "code",
   "execution_count": 12,
   "id": "cc8cbfa7",
   "metadata": {},
   "outputs": [
    {
     "name": "stdout",
     "output_type": "stream",
     "text": [
      "[0. 0. 0. 0. 0. 0. 0. 0. 0. 0. 0. 0. 0. 0. 0. 0. 0. 0. 0. 0. 0. 0. 0. 0.\n",
      " 0. 0. 0. 0. 0. 0. 0. 0. 0. 0. 0. 0. 0. 0. 0. 0. 0. 0. 0. 0. 0. 0. 0. 0.\n",
      " 0. 0. 0. 0. 0. 0. 0. 0. 0. 0. 0. 0. 0. 0. 0. 0. 0. 0. 0. 0. 0. 0. 0. 0.\n",
      " 0. 0. 0. 0. 0. 0. 0. 0. 0. 0. 0. 0. 0. 0. 0. 0. 0. 0. 0. 0. 0. 0. 0. 0.\n",
      " 0. 0. 0. 0. 0. 0. 0. 0. 0. 0. 0. 0. 0. 0. 0. 0. 0. 0. 0. 0. 0. 0. 0. 0.\n",
      " 0. 0. 0. 0. 0. 0. 0. 0. 0. 0. 0. 0. 0. 0. 0. 0. 0. 0. 0. 0. 0. 0. 0. 0.\n",
      " 0. 0. 0. 0. 0. 0. 0. 0. 0. 0. 0. 0. 0. 0. 0. 0. 0. 0. 0. 0. 0. 0. 0. 0.\n",
      " 0. 0. 0. 0. 0. 0. 0. 0. 0. 0. 0. 0. 0. 0. 0. 0. 0. 0. 0. 0. 0. 0. 0. 0.\n",
      " 0. 0. 0. 0. 0. 0. 0. 0. 0. 0. 0. 0. 0. 0. 0. 0. 0. 0. 0. 0. 0. 0. 0. 0.\n",
      " 0. 0. 0. 0. 0. 0. 0. 0. 0. 0. 0. 0. 0. 0. 0. 0. 0. 0. 0. 0. 0. 0. 0. 0.\n",
      " 0. 0. 0. 0. 0. 0. 0. 0. 0. 0. 0. 0. 0. 0. 0. 0. 0. 0. 0. 0. 0. 0. 0. 0.\n",
      " 0. 0. 0. 0. 0. 0. 0. 0. 0. 0. 0. 0. 0. 0. 0. 0. 0. 0. 0. 0. 0. 0. 0. 0.\n",
      " 0. 0. 0. 0. 0. 0. 0. 0. 0. 0. 0. 0. 0. 0. 0. 0. 0. 0. 0. 0. 0. 0. 0. 0.\n",
      " 0. 0. 0. 0. 0. 0. 0. 0. 0. 0. 0. 0. 0. 0. 0. 0. 0. 0. 0. 0. 0. 0. 0. 0.\n",
      " 0. 0. 0. 0. 0. 0. 0. 0. 0. 0. 0. 0. 0. 0. 0. 0. 0. 0. 0. 0. 0. 0. 0. 0.\n",
      " 0. 0. 0. 0. 0. 0. 0. 0. 0. 0. 0. 0. 0. 0. 0. 0. 0. 0. 0. 0. 0. 0. 0. 0.\n",
      " 0. 0. 0. 0. 0. 0. 0. 0. 0. 0. 0. 0. 0. 0. 0. 0. 1. 1. 1. 1. 1. 1. 1. 1.\n",
      " 1. 1. 1. 1. 1. 1. 1. 1. 1. 1. 1. 1. 1. 1. 1. 1. 1. 1. 1. 1. 1. 1. 1. 1.\n",
      " 1. 1. 1. 1. 1. 1. 1. 1. 1. 1. 1. 1. 1. 1. 1. 1. 1. 1. 1. 1. 1. 1. 1. 1.\n",
      " 1. 1. 1. 1. 1. 1. 1. 1. 1. 1. 1. 1. 1. 1. 1. 1. 1. 1. 1. 1. 1. 1. 1. 1.\n",
      " 1. 1. 1. 1. 1. 1. 1. 1. 1. 1. 1. 1. 1. 1. 1. 1. 1. 1. 1. 1. 1. 1. 1. 1.\n",
      " 1. 1. 1. 1. 1. 1. 1. 1. 1. 1. 1. 1. 1. 1. 1. 1. 1. 1. 1. 1. 1. 1. 1. 1.\n",
      " 1. 1. 1. 1. 1. 1. 1. 1. 1. 1. 1. 1. 1. 1. 1. 1. 1. 1. 1. 1. 1. 1. 1. 1.\n",
      " 1. 1. 1. 1. 1. 1. 1. 1. 1. 1. 1. 1. 1. 1. 1. 1. 1. 1. 1. 1. 1. 1. 1. 1.\n",
      " 1. 1. 1. 1. 1. 1. 1. 1. 1. 1. 1. 1. 1. 1. 1. 1. 1. 1. 1. 1. 1. 1. 1. 1.\n",
      " 1. 1. 1. 1. 1. 1. 1. 1. 1. 1. 1. 1. 1. 1. 1. 1. 1. 1. 1. 1. 1. 1. 1. 1.\n",
      " 1. 1. 1. 1. 1. 1. 1. 1. 1. 1. 1. 1. 1. 1. 1. 1. 1. 1. 1. 1. 1. 1. 1. 1.\n",
      " 1. 1. 1. 1. 1. 1. 1. 1. 1. 1. 1. 1. 1. 1. 1. 1. 1. 1. 1. 1. 1. 1. 1. 1.\n",
      " 1. 1. 1. 1. 1. 1. 1. 1. 1. 1. 1. 1. 1. 1. 1. 1. 1. 1. 1. 1. 1. 1. 1. 1.\n",
      " 1. 1. 1. 1. 1. 1. 1. 1. 1. 1. 1. 1. 1. 1. 1. 1. 1. 1. 1. 1. 1. 1. 1. 1.\n",
      " 1. 1. 1. 1. 1. 1. 1. 1. 1. 1. 1. 1. 1. 1. 1. 1. 1. 1. 1. 1. 1. 1. 1. 1.\n",
      " 1. 1. 1. 1. 1. 1. 1. 1. 1. 1. 1. 1. 1. 1. 1. 1. 1. 1. 1. 1. 1. 1. 1. 1.\n",
      " 1. 1. 1. 1. 1. 1. 1. 1. 1. 1. 1. 1. 1. 1. 1. 1. 1. 1. 1. 1. 1. 1. 1. 1.\n",
      " 1. 1. 1. 1. 1. 1. 1. 1.]\n"
     ]
    }
   ],
   "source": [
    "print(y_train2)"
   ]
  },
  {
   "cell_type": "code",
   "execution_count": 13,
   "id": "134fd364",
   "metadata": {},
   "outputs": [
    {
     "name": "stdout",
     "output_type": "stream",
     "text": [
      "[-2.10437509  1.59905448  0.01081916]\n",
      "Training Complete.\n",
      "------------------------------------------------\n",
      "[-2.11390101  0.85879252  0.84927843]\n",
      "Training Complete.\n"
     ]
    }
   ],
   "source": [
    "gda1 = GDA()\n",
    "gda2 = GDA()\n",
    "\n",
    "gda1.fit(X_train1, y_train1)\n",
    "print(\"------------------------------------------------\")\n",
    "gda2.fit(X_train2, y_train2)"
   ]
  },
  {
   "cell_type": "code",
   "execution_count": 14,
   "id": "c6881d36",
   "metadata": {},
   "outputs": [],
   "source": [
    "dataset1 = pd.read_csv(\"dev_set1.csv\")\n",
    "dataset2 = pd.read_csv(\"dev_set2.csv\")"
   ]
  },
  {
   "cell_type": "code",
   "execution_count": 15,
   "id": "e63300d9",
   "metadata": {},
   "outputs": [
    {
     "data": {
      "text/html": [
       "<div>\n",
       "<style scoped>\n",
       "    .dataframe tbody tr th:only-of-type {\n",
       "        vertical-align: middle;\n",
       "    }\n",
       "\n",
       "    .dataframe tbody tr th {\n",
       "        vertical-align: top;\n",
       "    }\n",
       "\n",
       "    .dataframe thead th {\n",
       "        text-align: right;\n",
       "    }\n",
       "</style>\n",
       "<table border=\"1\" class=\"dataframe\">\n",
       "  <thead>\n",
       "    <tr style=\"text-align: right;\">\n",
       "      <th></th>\n",
       "      <th>x_1</th>\n",
       "      <th>x_2</th>\n",
       "      <th>y</th>\n",
       "    </tr>\n",
       "  </thead>\n",
       "  <tbody>\n",
       "    <tr>\n",
       "      <th>0</th>\n",
       "      <td>-0.322604</td>\n",
       "      <td>1.440160</td>\n",
       "      <td>0.0</td>\n",
       "    </tr>\n",
       "    <tr>\n",
       "      <th>1</th>\n",
       "      <td>1.452131</td>\n",
       "      <td>2.262743</td>\n",
       "      <td>0.0</td>\n",
       "    </tr>\n",
       "    <tr>\n",
       "      <th>2</th>\n",
       "      <td>0.851176</td>\n",
       "      <td>0.874618</td>\n",
       "      <td>0.0</td>\n",
       "    </tr>\n",
       "    <tr>\n",
       "      <th>3</th>\n",
       "      <td>-0.425066</td>\n",
       "      <td>0.494481</td>\n",
       "      <td>0.0</td>\n",
       "    </tr>\n",
       "    <tr>\n",
       "      <th>4</th>\n",
       "      <td>1.079775</td>\n",
       "      <td>4.152225</td>\n",
       "      <td>0.0</td>\n",
       "    </tr>\n",
       "  </tbody>\n",
       "</table>\n",
       "</div>"
      ],
      "text/plain": [
       "        x_1       x_2    y\n",
       "0 -0.322604  1.440160  0.0\n",
       "1  1.452131  2.262743  0.0\n",
       "2  0.851176  0.874618  0.0\n",
       "3 -0.425066  0.494481  0.0\n",
       "4  1.079775  4.152225  0.0"
      ]
     },
     "execution_count": 15,
     "metadata": {},
     "output_type": "execute_result"
    }
   ],
   "source": [
    "dataset1.head()"
   ]
  },
  {
   "cell_type": "code",
   "execution_count": 16,
   "id": "40bcddc2",
   "metadata": {},
   "outputs": [
    {
     "data": {
      "text/html": [
       "<div>\n",
       "<style scoped>\n",
       "    .dataframe tbody tr th:only-of-type {\n",
       "        vertical-align: middle;\n",
       "    }\n",
       "\n",
       "    .dataframe tbody tr th {\n",
       "        vertical-align: top;\n",
       "    }\n",
       "\n",
       "    .dataframe thead th {\n",
       "        text-align: right;\n",
       "    }\n",
       "</style>\n",
       "<table border=\"1\" class=\"dataframe\">\n",
       "  <thead>\n",
       "    <tr style=\"text-align: right;\">\n",
       "      <th></th>\n",
       "      <th>x_1</th>\n",
       "      <th>x_2</th>\n",
       "      <th>y</th>\n",
       "    </tr>\n",
       "  </thead>\n",
       "  <tbody>\n",
       "    <tr>\n",
       "      <th>0</th>\n",
       "      <td>-0.001299</td>\n",
       "      <td>0.743055</td>\n",
       "      <td>0.0</td>\n",
       "    </tr>\n",
       "    <tr>\n",
       "      <th>1</th>\n",
       "      <td>0.446555</td>\n",
       "      <td>-0.316970</td>\n",
       "      <td>0.0</td>\n",
       "    </tr>\n",
       "    <tr>\n",
       "      <th>2</th>\n",
       "      <td>0.114992</td>\n",
       "      <td>0.015235</td>\n",
       "      <td>0.0</td>\n",
       "    </tr>\n",
       "    <tr>\n",
       "      <th>3</th>\n",
       "      <td>0.084417</td>\n",
       "      <td>0.070436</td>\n",
       "      <td>0.0</td>\n",
       "    </tr>\n",
       "    <tr>\n",
       "      <th>4</th>\n",
       "      <td>2.836387</td>\n",
       "      <td>3.010116</td>\n",
       "      <td>0.0</td>\n",
       "    </tr>\n",
       "  </tbody>\n",
       "</table>\n",
       "</div>"
      ],
      "text/plain": [
       "        x_1       x_2    y\n",
       "0 -0.001299  0.743055  0.0\n",
       "1  0.446555 -0.316970  0.0\n",
       "2  0.114992  0.015235  0.0\n",
       "3  0.084417  0.070436  0.0\n",
       "4  2.836387  3.010116  0.0"
      ]
     },
     "execution_count": 16,
     "metadata": {},
     "output_type": "execute_result"
    }
   ],
   "source": [
    "dataset2.head()"
   ]
  },
  {
   "cell_type": "code",
   "execution_count": 17,
   "id": "af82e7ca",
   "metadata": {},
   "outputs": [],
   "source": [
    "X_valid1 = dataset1.iloc[:, :-1].values\n",
    "X_valid2 = dataset2.iloc[:, :-1].values"
   ]
  },
  {
   "cell_type": "code",
   "execution_count": 18,
   "id": "0c934cd6",
   "metadata": {},
   "outputs": [
    {
     "name": "stdout",
     "output_type": "stream",
     "text": [
      "[[-0.3226045   1.44016009]\n",
      " [ 1.45213116  2.26274285]\n",
      " [ 0.85117646  0.87461786]\n",
      " [-0.42506633  0.49448067]\n",
      " [ 1.07977541  4.15222455]\n",
      " [ 0.06839514  3.60693507]\n",
      " [ 3.86229163 25.99079097]\n",
      " [ 0.63078087  0.69715553]\n",
      " [-0.64119999  0.07896407]\n",
      " [ 0.53135242  4.50417546]\n",
      " [ 2.19032426  6.54381687]\n",
      " [-0.38465533  0.42296288]\n",
      " [ 0.21679465  5.01812571]\n",
      " [ 0.4846679   1.36387124]\n",
      " [ 2.39608694 10.87208984]\n",
      " [-0.51197311  0.86848666]\n",
      " [ 0.61284557  1.92105571]\n",
      " [ 1.20247     1.39818937]\n",
      " [ 2.48716225  4.41633191]\n",
      " [ 0.27191322  2.48805513]\n",
      " [ 0.46650294  3.4560205 ]\n",
      " [-0.77155423  0.70674626]\n",
      " [ 0.74548073  0.78677636]\n",
      " [ 1.34588118  1.84466679]\n",
      " [ 0.03825659  1.37679837]\n",
      " [ 0.97144296  2.33499786]\n",
      " [ 0.73578508  5.36219354]\n",
      " [-0.98294485  0.60613226]\n",
      " [-1.06748414  0.51752952]\n",
      " [ 0.16444179  1.19318199]\n",
      " [-0.7898848   1.0424866 ]\n",
      " [-0.14329976  0.56735751]\n",
      " [-0.82024735  0.49960062]\n",
      " [ 0.66933574  2.03132583]\n",
      " [ 2.18580501  4.79542536]\n",
      " [ 1.24524603  2.22477477]\n",
      " [-0.38608243  1.17125926]\n",
      " [ 1.97265966  0.94942542]\n",
      " [ 0.11536834  0.41934752]\n",
      " [-0.62494875  0.36937505]\n",
      " [ 0.73560961  2.00940088]\n",
      " [ 1.79850535  1.03246785]\n",
      " [-0.14833684  0.46835912]\n",
      " [-0.09403357  1.07422495]\n",
      " [ 1.95126591 11.27001531]\n",
      " [-0.76667657  0.48703998]\n",
      " [ 0.53937355  0.91782734]\n",
      " [-0.22698133  1.18536598]\n",
      " [-0.39058305  1.03621699]\n",
      " [ 0.96225877  1.0804548 ]\n",
      " [ 2.87853267 32.40471731]\n",
      " [ 0.63533685  1.31647006]\n",
      " [ 2.44918624 32.26914179]\n",
      " [ 1.55800428  1.41965492]\n",
      " [ 1.58703176 10.27789785]\n",
      " [ 2.92302652  6.32084127]\n",
      " [ 1.16179168  8.79339693]\n",
      " [ 1.01926912  7.27956453]\n",
      " [ 1.64074981  5.30590931]\n",
      " [ 2.1625751  12.70579893]\n",
      " [ 2.20355391  6.93546526]\n",
      " [ 1.80281512  9.08987516]\n",
      " [ 0.38185288  2.08733116]\n",
      " [ 2.73898669  6.43298261]\n",
      " [ 2.33229757 13.46785592]\n",
      " [ 2.1515753   3.30175484]\n",
      " [ 2.08755952  7.46399068]\n",
      " [ 2.42536537 26.4483108 ]\n",
      " [ 1.22952296  2.63268864]\n",
      " [ 2.29617283 12.01655075]\n",
      " [ 3.30064721 11.28460368]\n",
      " [ 0.98606951  2.43854265]\n",
      " [ 1.71111559  4.78419937]\n",
      " [ 1.43791364  2.54852746]\n",
      " [ 2.06546113  6.82796588]\n",
      " [ 2.6042525  18.17196626]\n",
      " [ 2.56193154  2.67573402]\n",
      " [ 1.67306091  2.28230367]\n",
      " [ 3.07760672 13.17400532]\n",
      " [ 0.80343565  1.95356398]\n",
      " [ 0.29409223  1.8304515 ]\n",
      " [ 4.17743477 28.43916382]\n",
      " [ 2.20240356 14.48263971]\n",
      " [ 2.75638736  9.03904178]\n",
      " [ 1.59509206  3.23851668]\n",
      " [ 2.31360137  8.12523688]\n",
      " [ 2.25188961  6.10723549]\n",
      " [ 1.74848706  4.97610269]\n",
      " [ 1.94191761  6.17617417]\n",
      " [ 3.23970139 36.2488673 ]\n",
      " [ 0.77654359  1.719952  ]\n",
      " [ 1.53339444  7.11126102]\n",
      " [ 1.44950114  7.08491125]\n",
      " [ 1.62476639  8.74420153]\n",
      " [ 1.96366438  8.17721712]\n",
      " [ 1.79561844  2.61247159]\n",
      " [ 1.95348024  1.6333998 ]\n",
      " [ 1.86352418  5.88989936]\n",
      " [ 2.91729395 22.77683958]\n",
      " [ 1.31972857  2.84750546]]\n"
     ]
    }
   ],
   "source": [
    "print(X_valid1)"
   ]
  },
  {
   "cell_type": "code",
   "execution_count": 19,
   "id": "22cb04ef",
   "metadata": {},
   "outputs": [
    {
     "name": "stdout",
     "output_type": "stream",
     "text": [
      "[[-1.29853375e-03  7.43054970e-01]\n",
      " [ 4.46555477e-01 -3.16970383e-01]\n",
      " [ 1.14991812e-01  1.52351864e-02]\n",
      " [ 8.44173715e-02  7.04360579e-02]\n",
      " [ 2.83638733e+00  3.01011575e+00]\n",
      " [ 2.92089150e+00  2.37106753e+00]\n",
      " [ 7.79357813e-01  7.47045256e-01]\n",
      " [-1.88225309e+00 -1.12662595e+00]\n",
      " [ 5.37546308e-01  4.94076936e-01]\n",
      " [ 5.11061881e-01  2.41343016e-01]\n",
      " [-9.44780796e-02  7.14251674e-01]\n",
      " [ 2.77214309e-01 -1.58758152e-01]\n",
      " [ 2.16150446e+00  2.15542999e+00]\n",
      " [-2.47328249e-01  2.36446907e-02]\n",
      " [ 1.78585968e+00  2.77306884e+00]\n",
      " [-1.31345325e-01 -1.17128496e+00]\n",
      " [ 1.06714038e+00  3.44111626e-01]\n",
      " [-4.42019241e-01  9.10060258e-01]\n",
      " [ 7.17159861e-01  5.86266533e-01]\n",
      " [-3.39468208e-01 -3.77408746e-01]\n",
      " [ 2.83622092e-01  9.38803404e-02]\n",
      " [ 4.97420544e-02  9.58615253e-01]\n",
      " [-1.41946580e-01  2.94698429e-01]\n",
      " [-6.71502459e-01 -4.65644967e-01]\n",
      " [ 8.16820693e-01  1.58639277e-01]\n",
      " [ 8.32369692e-01  1.49364273e-01]\n",
      " [ 1.35556756e+00  5.15528509e-01]\n",
      " [ 4.21036606e-01 -5.87433340e-01]\n",
      " [ 1.17855297e-01 -2.64967092e-01]\n",
      " [ 5.18763763e-03  6.35544034e-02]\n",
      " [ 1.18129216e+00  8.67854309e-01]\n",
      " [ 2.30793513e+00  5.24755692e-01]\n",
      " [ 5.02172079e-01 -1.11361659e+00]\n",
      " [ 6.02016171e-01  1.11330037e-01]\n",
      " [-2.62295175e-01 -2.45817314e-01]\n",
      " [ 3.96275175e-01  1.03670840e+00]\n",
      " [ 8.08751814e-01  1.01219761e+00]\n",
      " [ 5.21719878e-01  8.50876733e-01]\n",
      " [-1.72637142e-01  1.11022710e-01]\n",
      " [-8.43185594e-01 -1.40119693e+00]\n",
      " [ 5.65733970e-01  4.71257312e-01]\n",
      " [-6.68739732e-01  7.29964311e-02]\n",
      " [ 6.18204667e-01  2.33225025e-01]\n",
      " [ 9.29320445e-01  6.25216360e-01]\n",
      " [-3.68151259e-01  1.10604035e-01]\n",
      " [ 8.79511686e-01  1.09755241e-01]\n",
      " [ 9.16410884e-01  2.86536640e-01]\n",
      " [-7.67075931e-01 -6.01544697e-01]\n",
      " [-4.25453658e-01  7.95891436e-01]\n",
      " [ 2.23095359e-01  2.68003761e-01]\n",
      " [ 2.87492066e+00  2.68032008e+00]\n",
      " [ 1.96059178e+00  1.71771340e+00]\n",
      " [ 2.27663954e+00  1.70156012e+00]\n",
      " [ 1.88957083e+00  2.73905812e+00]\n",
      " [ 1.09538561e+00  1.80823344e+00]\n",
      " [ 1.76845695e+00  2.72995665e+00]\n",
      " [ 1.79431621e+00  3.44250379e+00]\n",
      " [ 1.20402288e+00  2.11373513e+00]\n",
      " [ 1.78846401e+00  1.41204533e+00]\n",
      " [ 3.53356869e+00  2.56876650e+00]\n",
      " [ 2.20713825e+00  2.82513437e+00]\n",
      " [ 1.42252216e+00  6.67386185e-01]\n",
      " [ 3.39593803e+00  3.52290952e+00]\n",
      " [ 1.44449159e+00  1.90456499e+00]\n",
      " [ 6.07023400e-01  1.94449255e+00]\n",
      " [ 3.76712763e+00  3.25631424e+00]\n",
      " [ 2.88120409e+00  3.13590108e+00]\n",
      " [ 2.43143892e+00  1.75903755e+00]\n",
      " [ 2.77321457e+00  2.31262088e+00]\n",
      " [ 5.12451389e-01  1.61439876e+00]\n",
      " [ 1.65923091e+00  1.41384802e+00]\n",
      " [ 1.44664735e+00  9.13978222e-01]\n",
      " [ 1.51243073e+00  2.07400819e-01]\n",
      " [ 3.84659358e+00  3.54237037e+00]\n",
      " [ 2.62047736e-01  9.79307578e-01]\n",
      " [ 1.93122730e+00  2.57378250e+00]\n",
      " [ 2.40339391e+00  1.88490353e+00]\n",
      " [ 1.94254415e+00  1.66933690e+00]\n",
      " [-2.73872308e-01 -6.74345159e-02]\n",
      " [ 1.79421308e+00  2.06791849e+00]\n",
      " [ 1.26461798e+00  2.55759066e+00]\n",
      " [ 2.45377863e+00  2.49278614e+00]\n",
      " [ 2.13584363e+00  2.86023619e+00]\n",
      " [ 2.99305100e+00  3.31783836e+00]\n",
      " [ 2.40542193e+00  1.45107754e+00]\n",
      " [ 3.26571300e+00  2.79752470e+00]\n",
      " [ 4.39131060e+00  4.48080433e+00]\n",
      " [ 1.21171676e+00  8.22676415e-01]\n",
      " [ 3.73762113e+00  3.37875224e+00]\n",
      " [ 2.18829384e+00  2.86276080e+00]\n",
      " [ 1.72622054e+00  1.95945802e+00]\n",
      " [ 1.09457669e+00  1.34183485e+00]\n",
      " [ 8.71339150e-01  1.93287090e+00]\n",
      " [ 2.83661584e+00  1.76557150e+00]\n",
      " [ 3.51136779e-01  6.29908358e-01]\n",
      " [ 2.77254860e+00  3.12945199e+00]\n",
      " [ 2.58487774e+00  2.36468247e+00]\n",
      " [ 1.89185577e+00  1.42506957e+00]\n",
      " [ 2.73222516e+00  1.56569405e+00]\n",
      " [ 3.41603067e+00  3.58448428e+00]]\n"
     ]
    }
   ],
   "source": [
    "print(X_valid2)"
   ]
  },
  {
   "cell_type": "code",
   "execution_count": 20,
   "id": "10c69f3d",
   "metadata": {},
   "outputs": [],
   "source": [
    "y_valid1 = dataset1.iloc[:, -1].values\n",
    "y_valid2 = dataset2.iloc[:, -1].values"
   ]
  },
  {
   "cell_type": "code",
   "execution_count": 21,
   "id": "1d27280e",
   "metadata": {},
   "outputs": [
    {
     "name": "stdout",
     "output_type": "stream",
     "text": [
      "[0. 0. 0. 0. 0. 0. 0. 0. 0. 0. 0. 0. 0. 0. 0. 0. 0. 0. 0. 0. 0. 0. 0. 0.\n",
      " 0. 0. 0. 0. 0. 0. 0. 0. 0. 0. 0. 0. 0. 0. 0. 0. 0. 0. 0. 0. 0. 0. 0. 0.\n",
      " 0. 0. 1. 1. 1. 1. 1. 1. 1. 1. 1. 1. 1. 1. 1. 1. 1. 1. 1. 1. 1. 1. 1. 1.\n",
      " 1. 1. 1. 1. 1. 1. 1. 1. 1. 1. 1. 1. 1. 1. 1. 1. 1. 1. 1. 1. 1. 1. 1. 1.\n",
      " 1. 1. 1. 1.]\n"
     ]
    }
   ],
   "source": [
    "print(y_valid1)"
   ]
  },
  {
   "cell_type": "code",
   "execution_count": 22,
   "id": "149aa872",
   "metadata": {},
   "outputs": [
    {
     "name": "stdout",
     "output_type": "stream",
     "text": [
      "[0. 0. 0. 0. 0. 0. 0. 0. 0. 0. 0. 0. 0. 0. 0. 0. 0. 0. 0. 0. 0. 0. 0. 0.\n",
      " 0. 0. 0. 0. 0. 0. 0. 0. 0. 0. 0. 0. 0. 0. 0. 0. 0. 0. 0. 0. 0. 0. 0. 0.\n",
      " 0. 0. 1. 1. 1. 1. 1. 1. 1. 1. 1. 1. 1. 1. 1. 1. 1. 1. 1. 1. 1. 1. 1. 1.\n",
      " 1. 1. 1. 1. 1. 1. 1. 1. 1. 1. 1. 1. 1. 1. 1. 1. 1. 1. 1. 1. 1. 1. 1. 1.\n",
      " 1. 1. 1. 1.]\n"
     ]
    }
   ],
   "source": [
    "print(y_valid2)"
   ]
  },
  {
   "cell_type": "code",
   "execution_count": 23,
   "id": "02c08f50",
   "metadata": {},
   "outputs": [],
   "source": [
    "y_pred1_valid = gda1.predict(X_valid1)\n",
    "y_pred2_valid = gda2.predict(X_valid2)"
   ]
  },
  {
   "cell_type": "code",
   "execution_count": 24,
   "id": "4a7dc023",
   "metadata": {},
   "outputs": [
    {
     "name": "stdout",
     "output_type": "stream",
     "text": [
      "[0 1 0 0 0 0 1 0 0 0 1 0 0 0 1 0 0 0 1 0 0 0 0 1 0 0 0 0 0 0 0 0 0 0 1 0 0\n",
      " 1 0 0 0 1 0 0 1 0 0 0 0 0 1 0 1 1 1 1 0 0 1 1 1 1 0 1 1 1 1 1 0 1 1 0 1 1\n",
      " 1 1 1 1 1 0 0 1 1 1 1 1 1 1 1 1 0 1 1 1 1 1 1 1 1 1]\n"
     ]
    }
   ],
   "source": [
    "print(y_pred1_valid)"
   ]
  },
  {
   "cell_type": "code",
   "execution_count": 25,
   "id": "ed22144a",
   "metadata": {},
   "outputs": [
    {
     "name": "stdout",
     "output_type": "stream",
     "text": [
      "[0 0 0 0 1 1 0 0 0 0 0 0 1 0 1 0 0 0 0 0 0 0 0 0 0 0 0 0 0 0 0 1 0 0 0 0 0\n",
      " 0 0 0 0 0 0 0 0 0 0 0 0 0 1 1 1 1 1 1 1 1 1 1 1 0 1 1 1 1 1 1 1 0 1 0 0 1\n",
      " 0 1 1 1 0 1 1 1 1 1 1 1 1 0 1 1 1 0 1 1 0 1 1 1 1 1]\n"
     ]
    }
   ],
   "source": [
    "print(y_pred2_valid)"
   ]
  },
  {
   "cell_type": "code",
   "execution_count": 26,
   "id": "54eedc8d",
   "metadata": {},
   "outputs": [],
   "source": [
    "y_pred1_train = gda1.predict(X_train1)\n",
    "y_pred2_train = gda2.predict(X_train2)"
   ]
  },
  {
   "cell_type": "code",
   "execution_count": 27,
   "id": "639a8f39",
   "metadata": {},
   "outputs": [
    {
     "name": "stdout",
     "output_type": "stream",
     "text": [
      "[0 1 0 0 0 0 0 0 0 0 0 1 0 0 0 0 0 0 0 0 0 0 0 1 0 1 0 1 1 0 0 0 0 0 0 0 0\n",
      " 0 0 0 0 1 1 0 1 0 1 0 0 0 1 0 0 0 0 0 0 0 0 0 0 0 0 0 0 0 0 0 0 0 0 0 0 0\n",
      " 1 0 0 0 0 0 1 0 0 0 1 0 1 1 0 0 0 1 0 0 0 0 0 0 0 0 0 0 0 0 0 0 1 0 0 0 1\n",
      " 0 0 0 0 0 0 0 0 0 0 0 0 0 0 0 0 0 0 0 1 0 1 1 0 0 0 0 0 1 0 0 0 0 1 0 0 0\n",
      " 0 0 0 0 0 0 0 1 0 1 0 0 0 0 0 0 0 0 0 0 0 1 0 0 0 0 1 1 0 0 0 0 0 0 1 0 0\n",
      " 0 0 0 0 0 0 0 0 0 0 1 0 0 1 0 0 0 0 0 0 1 0 0 0 0 0 1 0 1 0 0 0 0 0 0 0 0\n",
      " 1 0 0 0 0 1 0 0 0 1 1 0 0 0 0 0 0 0 0 1 1 0 0 0 1 0 1 0 0 0 1 0 0 0 0 1 0\n",
      " 0 1 1 0 0 0 1 0 0 1 0 0 0 0 0 0 0 0 0 0 1 0 0 0 0 1 0 1 1 0 0 1 0 1 0 0 0\n",
      " 0 0 0 0 0 0 0 0 0 0 0 0 0 0 0 0 1 0 0 1 0 1 0 1 0 1 0 0 0 1 1 0 0 1 0 0 1\n",
      " 0 0 0 0 0 0 0 1 0 0 0 0 0 1 0 0 0 0 0 0 0 0 1 0 0 0 0 0 0 0 1 0 0 0 0 0 0\n",
      " 1 0 1 1 0 1 0 1 0 0 0 0 0 0 0 1 0 0 0 1 0 0 0 1 0 0 0 1 1 1 1 0 1 1 1 1 1\n",
      " 0 1 0 1 1 0 0 1 1 0 1 1 1 1 1 0 1 1 1 1 1 1 0 1 1 1 1 1 1 0 1 1 1 1 1 1 1\n",
      " 0 1 1 1 0 0 0 1 1 1 1 1 0 1 0 1 1 1 1 1 1 1 1 0 1 1 1 1 1 1 0 1 1 1 1 1 1\n",
      " 1 1 0 1 1 1 1 1 0 0 0 1 1 1 1 0 1 1 1 0 0 1 1 0 0 1 1 1 1 1 1 1 1 1 1 1 0\n",
      " 1 0 1 1 1 0 1 1 1 1 1 1 1 1 1 1 1 1 1 1 1 1 1 0 0 1 1 0 0 0 1 1 0 1 1 1 1\n",
      " 1 1 1 1 0 1 1 0 1 1 1 0 1 0 1 1 1 1 1 1 1 1 1 1 1 1 1 1 0 1 1 1 1 1 1 1 0\n",
      " 1 0 1 1 0 0 1 0 0 1 1 0 1 1 1 1 0 0 1 0 0 1 1 1 0 1 1 1 1 1 1 1 1 0 1 1 1\n",
      " 1 0 1 1 1 1 1 1 1 1 1 1 1 0 1 1 1 1 0 1 1 0 1 0 1 0 1 1 1 1 1 1 1 0 1 0 1\n",
      " 1 1 1 1 1 1 0 1 1 0 1 1 1 0 1 1 1 0 1 1 0 1 1 0 1 1 1 1 0 1 1 1 1 1 1 0 1\n",
      " 1 1 1 1 0 0 0 1 0 1 1 1 1 0 1 1 1 1 1 1 1 1 1 1 1 1 1 1 1 1 0 1 1 1 1 1 1\n",
      " 0 1 1 1 1 1 1 1 0 1 1 1 0 1 0 1 1 1 1 1 1 1 0 1 1 1 1 1 1 1 1 1 0 1 1 0 1\n",
      " 1 1 1 0 1 1 1 1 1 0 0 1 1 1 1 1 1 0 1 0 0 1 1]\n"
     ]
    }
   ],
   "source": [
    "print(y_pred1_train)"
   ]
  },
  {
   "cell_type": "code",
   "execution_count": 28,
   "id": "3b4d0f6a",
   "metadata": {},
   "outputs": [
    {
     "name": "stdout",
     "output_type": "stream",
     "text": [
      "[1 0 0 1 0 0 0 0 0 0 0 1 0 0 1 0 0 0 0 0 0 0 0 0 0 0 0 0 1 0 1 1 1 0 0 0 0\n",
      " 1 1 0 0 0 0 0 0 0 1 0 0 0 0 0 0 0 0 0 0 0 0 0 0 1 0 0 0 1 0 0 0 1 1 0 1 0\n",
      " 1 0 0 0 0 0 1 0 1 0 0 0 0 1 0 0 0 0 0 1 0 0 0 0 0 0 0 1 1 0 0 0 0 0 1 0 0\n",
      " 1 0 0 0 0 0 0 0 0 0 0 0 1 0 0 0 0 1 0 0 1 0 0 0 0 0 0 1 0 0 0 0 0 0 1 0 0\n",
      " 0 1 1 0 1 0 1 0 0 0 1 0 1 0 1 1 0 0 0 0 1 0 0 1 0 1 0 0 0 0 0 0 0 0 0 0 0\n",
      " 0 0 0 0 0 0 0 0 1 0 0 1 0 0 1 0 0 1 0 0 0 0 0 0 0 1 0 0 0 0 0 0 0 0 0 0 0\n",
      " 0 0 0 1 0 0 0 0 1 0 0 0 0 1 0 0 0 1 0 0 1 0 0 0 0 0 1 0 0 0 0 0 0 0 0 0 1\n",
      " 0 0 0 0 0 0 1 1 0 0 0 1 0 0 0 0 0 0 0 0 0 0 0 0 0 0 0 1 1 1 0 0 0 0 0 1 0\n",
      " 0 0 0 0 0 0 0 0 0 0 0 0 0 1 0 0 0 0 0 0 0 0 1 0 1 0 0 1 0 0 0 0 0 0 0 0 0\n",
      " 0 1 1 0 1 0 0 1 0 0 0 0 0 1 0 0 0 1 0 1 0 1 0 0 1 1 0 0 0 0 0 0 1 0 0 0 0\n",
      " 0 0 0 0 0 0 1 0 0 1 0 0 0 0 1 0 0 0 1 0 0 0 0 0 1 0 0 0 0 0 1 0 1 1 1 0 1\n",
      " 1 0 0 1 1 1 1 1 1 0 1 1 1 1 1 1 1 1 1 1 1 1 1 1 1 1 1 1 0 1 1 1 0 1 0 0 1\n",
      " 0 0 1 1 1 1 0 1 1 1 1 1 1 1 1 1 1 1 0 1 1 1 1 1 1 1 1 0 1 1 1 1 1 1 1 1 1\n",
      " 1 1 1 1 1 0 1 1 0 0 1 0 1 1 0 1 1 1 1 1 1 1 1 1 0 1 1 1 1 1 0 1 0 0 0 1 1\n",
      " 0 0 0 1 0 0 1 1 0 1 0 1 1 1 0 1 0 1 1 0 1 0 1 1 1 0 0 1 1 1 0 1 1 1 1 1 0\n",
      " 1 1 1 1 1 1 1 1 1 0 0 1 1 0 1 0 0 1 1 1 1 1 1 1 0 1 1 1 1 1 1 0 1 1 1 1 1\n",
      " 1 1 1 0 1 1 0 1 1 1 1 0 1 1 1 0 1 1 1 1 1 1 1 1 1 1 1 1 1 1 1 0 1 1 1 1 0\n",
      " 1 1 1 1 1 0 1 1 0 1 1 1 0 1 1 1 1 1 1 1 1 1 1 1 0 1 1 1 1 1 1 1 1 1 1 1 0\n",
      " 0 1 1 1 0 1 0 1 1 1 1 1 1 1 0 1 1 1 0 1 0 1 1 0 0 1 1 0 1 1 1 1 1 1 1 1 0\n",
      " 1 1 1 1 1 0 1 1 1 0 1 1 0 0 1 0 1 1 1 1 1 1 1 1 0 1 1 1 1 1 1 0 0 1 1 1 0\n",
      " 1 1 1 1 1 1 1 1 0 1 0 1 1 1 1 1 1 1 1 1 1 1 0 1 1 0 0 1 1 1 1 1 1 1 1 1 1\n",
      " 0 1 0 1 1 1 1 1 1 1 1 1 1 1 1 1 1 1 1 1 1 0 1]\n"
     ]
    }
   ],
   "source": [
    "print(y_pred2_train)"
   ]
  },
  {
   "cell_type": "code",
   "execution_count": 29,
   "id": "94e7490e",
   "metadata": {},
   "outputs": [],
   "source": [
    "import matplotlib.pyplot as plt"
   ]
  },
  {
   "cell_type": "code",
   "execution_count": 30,
   "id": "39059fad",
   "metadata": {},
   "outputs": [
    {
     "data": {
      "image/png": "[encoded data removed]",
      "text/plain": [
       "<Figure size 432x288 with 1 Axes>"
      ]
     },
     "metadata": {
      "needs_background": "light"
     },
     "output_type": "display_data"
    }
   ],
   "source": [
    "plt.figure()\n",
    "plt.plot(X_valid1[y_valid1 == 1, 0], X_valid1[y_valid1 == 1, 1], 'bx')\n",
    "plt.plot(X_valid1[y_valid1 == 0, 0], X_valid1[y_valid1 == 0, 1], 'go')\n",
    "\n",
    "plt.xlabel(\"x1\")\n",
    "plt.ylabel(\"y1\")\n",
    "\n",
    "plt.xlim(xmin = -2, xmax = 5)\n",
    "plt.ylim(ymin = -2, ymax = 40)\n",
    "\n",
    "x = np.arange(min(X_valid1[:, 0]), max(X_valid1[:, 0]), 0.01)\n",
    "y = -1 * (gda1.w[0] / gda1.w[2] + gda1.w[1] / gda1.w[2] * x)\n",
    "\n",
    "plt.plot(x, y, c = \"red\")\n",
    "\n",
    "plt.show()"
   ]
  },
  {
   "cell_type": "code",
   "execution_count": 31,
   "id": "bf31601a",
   "metadata": {},
   "outputs": [
    {
     "data": {
      "image/png": "[encoded data removed]",
      "text/plain": [
       "<Figure size 432x288 with 1 Axes>"
      ]
     },
     "metadata": {
      "needs_background": "light"
     },
     "output_type": "display_data"
    }
   ],
   "source": [
    "plt.figure()\n",
    "\n",
    "plt.plot(X_valid2[y_valid2 == 1, 0], X_valid2[y_valid2 == 1, 1], 'bx')\n",
    "plt.plot(X_valid2[y_valid2 == 0, 0], X_valid2[y_valid2 == 0, 1], 'go')\n",
    "\n",
    "plt.xlabel(\"x1\")\n",
    "plt.ylabel(\"x2\")\n",
    "\n",
    "x = np.arange(min(X_valid2[:, 0]), max(X_valid2[:, 1]), 0.01)\n",
    "y = -1 * (gda2.w[0] / gda2.w[2] + gda2.w[1] / gda2.w[2] * x)\n",
    "\n",
    "plt.plot(x, y, c = \"red\")\n",
    "\n",
    "plt.show()"
   ]
  },
  {
   "cell_type": "code",
   "execution_count": 32,
   "id": "87483de8",
   "metadata": {},
   "outputs": [
    {
     "name": "stdout",
     "output_type": "stream",
     "text": [
      "Accuracy of model 1 on the validation set = 81.0%\n"
     ]
    }
   ],
   "source": [
    "count = 0\n",
    "for i in range(len(y_valid1)):\n",
    "    if y_pred1_valid[i] == y_valid1[i]:\n",
    "        count += 1\n",
    "\n",
    "print(f\"Accuracy of model 1 on the validation set = {count / len(y_valid1) * 100}%\")"
   ]
  },
  {
   "cell_type": "code",
   "execution_count": 33,
   "id": "71b52226",
   "metadata": {},
   "outputs": [
    {
     "name": "stdout",
     "output_type": "stream",
     "text": [
      "Accuracy of model 1 on the training set = 79.125%\n"
     ]
    }
   ],
   "source": [
    "count = 0\n",
    "for i in range(len(y_train1)):\n",
    "    if y_pred1_train[i] == y_train1[i]:\n",
    "        count += 1\n",
    "        \n",
    "print(f\"Accuracy of model 1 on the training set = {count / len(y_train1) * 100}%\")"
   ]
  },
  {
   "cell_type": "code",
   "execution_count": 34,
   "id": "7c2b9429",
   "metadata": {},
   "outputs": [
    {
     "name": "stdout",
     "output_type": "stream",
     "text": [
      "Accuracy of model 2 on the validation set = 86.0%\n"
     ]
    }
   ],
   "source": [
    "count = 0\n",
    "for i in range(len(y_valid2)):\n",
    "    if y_pred2_valid[i] == y_valid2[i]:\n",
    "        count += 1\n",
    "        \n",
    "print(f\"Accuracy of model 2 on the validation set = {count / len(y_valid2) * 100}%\")"
   ]
  },
  {
   "cell_type": "code",
   "execution_count": 35,
   "id": "47643f22",
   "metadata": {},
   "outputs": [
    {
     "name": "stdout",
     "output_type": "stream",
     "text": [
      "Accuracy of model 2 on the training set = 79.5%\n"
     ]
    }
   ],
   "source": [
    "count = 0\n",
    "for i in range(len(y_train2)):\n",
    "    if y_pred2_train[i] == y_train2[i]:\n",
    "        count += 1\n",
    "        \n",
    "print(f\"Accuracy of model 2 on the training set = {count / len(y_train2) * 100}%\")"
   ]
  },
  {
   "cell_type": "code",
   "execution_count": 36,
   "id": "337f3305",
   "metadata": {},
   "outputs": [],
   "source": [
    "np.savetxt(\"parameters1.txt\", gda1.w, delimiter = \", \")\n",
    "np.savetxt(\"parameters2.txt\", gda2.w, delimiter = \", \")"
   ]
  }
 ],
 "metadata": {
  "kernelspec": {
   "display_name": "Python 3 (ipykernel)",
   "language": "python",
   "name": "python3"
  },
  "language_info": {
   "codemirror_mode": {
    "name": "ipython",
    "version": 3
   },
   "file_extension": ".py",
   "mimetype": "text/x-python",
   "name": "python",
   "nbconvert_exporter": "python",
   "pygments_lexer": "ipython3",
   "version": "3.9.12"
  }
 },
 "nbformat": 4,
 "nbformat_minor": 5
}
